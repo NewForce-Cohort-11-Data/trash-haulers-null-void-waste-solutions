{
 "cells": [
  {
   "cell_type": "markdown",
   "id": "41ae7819-4337-4869-9beb-fb3ffa7522fb",
   "metadata": {},
   "source": [
    "# Trash Haulers Project - Null & Void Waste Solutions"
   ]
  },
  {
   "cell_type": "markdown",
   "id": "3a6a38d9-67cb-4e9e-9eda-02ce62a1178c",
   "metadata": {},
   "source": [
    "## Import Libraries"
   ]
  },
  {
   "cell_type": "code",
   "execution_count": 1,
   "id": "151b60a7-4e44-4ee5-975b-5caf0a4332c5",
   "metadata": {},
   "outputs": [],
   "source": [
    "#from shapely.geometry import Point\n",
    "import pandas as pd\n",
    "import geopandas as gpd\n",
    "import matplotlib.pyplot as plt\n",
    "import folium\n",
    "from folium.plugins import MarkerCluster\n",
    "from folium.plugins import FastMarkerCluster"
   ]
  },
  {
   "cell_type": "markdown",
   "id": "868b6ab1-237a-4ee6-b1e3-044a5cfaf1a3",
   "metadata": {},
   "source": [
    "## Read in CSV"
   ]
  },
  {
   "cell_type": "code",
   "execution_count": 2,
   "id": "ccc1a07e-a2d1-4303-9968-fd28e51d23a2",
   "metadata": {},
   "outputs": [],
   "source": [
    "trash = pd.read_csv('trash_hauler_report.csv')"
   ]
  },
  {
   "cell_type": "markdown",
   "id": "e647c453-1a3b-4bd0-aca9-4a4da5ceb219",
   "metadata": {},
   "source": [
    "## EDA"
   ]
  },
  {
   "cell_type": "code",
   "execution_count": 3,
   "id": "1e0a8dce-cef7-4d17-a1a9-68ed9ac4fb03",
   "metadata": {},
   "outputs": [
    {
     "name": "stdout",
     "output_type": "stream",
     "text": [
      "<class 'pandas.core.frame.DataFrame'>\n",
      "RangeIndex: 20226 entries, 0 to 20225\n",
      "Data columns (total 11 columns):\n",
      " #   Column            Non-Null Count  Dtype  \n",
      "---  ------            --------------  -----  \n",
      " 0   Request Number    20226 non-null  int64  \n",
      " 1   Date Opened       20226 non-null  object \n",
      " 2   Request           20226 non-null  object \n",
      " 3   Description       20195 non-null  object \n",
      " 4   Incident Address  20217 non-null  object \n",
      " 5   Zip Code          20151 non-null  float64\n",
      " 6   Trash Hauler      19325 non-null  object \n",
      " 7   Trash Route       19279 non-null  object \n",
      " 8   Council District  20177 non-null  float64\n",
      " 9   State Plan X      20198 non-null  float64\n",
      " 10  State Plan Y      20198 non-null  float64\n",
      "dtypes: float64(4), int64(1), object(6)\n",
      "memory usage: 1.7+ MB\n"
     ]
    }
   ],
   "source": [
    "trash.info()"
   ]
  },
  {
   "cell_type": "code",
   "execution_count": 4,
   "id": "456d612a-53b5-494c-a107-4a077d0bea49",
   "metadata": {},
   "outputs": [
    {
     "data": {
      "text/html": [
       "<div>\n",
       "<style scoped>\n",
       "    .dataframe tbody tr th:only-of-type {\n",
       "        vertical-align: middle;\n",
       "    }\n",
       "\n",
       "    .dataframe tbody tr th {\n",
       "        vertical-align: top;\n",
       "    }\n",
       "\n",
       "    .dataframe thead th {\n",
       "        text-align: right;\n",
       "    }\n",
       "</style>\n",
       "<table border=\"1\" class=\"dataframe\">\n",
       "  <thead>\n",
       "    <tr style=\"text-align: right;\">\n",
       "      <th></th>\n",
       "      <th>Request Number</th>\n",
       "      <th>Zip Code</th>\n",
       "      <th>Council District</th>\n",
       "      <th>State Plan X</th>\n",
       "      <th>State Plan Y</th>\n",
       "    </tr>\n",
       "  </thead>\n",
       "  <tbody>\n",
       "    <tr>\n",
       "      <th>count</th>\n",
       "      <td>20226.000000</td>\n",
       "      <td>20151.000000</td>\n",
       "      <td>20177.000000</td>\n",
       "      <td>2.019800e+04</td>\n",
       "      <td>2.019800e+04</td>\n",
       "    </tr>\n",
       "    <tr>\n",
       "      <th>mean</th>\n",
       "      <td>149178.986354</td>\n",
       "      <td>37180.621805</td>\n",
       "      <td>18.079100</td>\n",
       "      <td>1.763012e+06</td>\n",
       "      <td>6.595069e+05</td>\n",
       "    </tr>\n",
       "    <tr>\n",
       "      <th>std</th>\n",
       "      <td>71837.306889</td>\n",
       "      <td>66.310919</td>\n",
       "      <td>9.917632</td>\n",
       "      <td>7.754951e+05</td>\n",
       "      <td>4.355405e+04</td>\n",
       "    </tr>\n",
       "    <tr>\n",
       "      <th>min</th>\n",
       "      <td>25270.000000</td>\n",
       "      <td>37013.000000</td>\n",
       "      <td>1.000000</td>\n",
       "      <td>1.663490e+06</td>\n",
       "      <td>-2.719106e+05</td>\n",
       "    </tr>\n",
       "    <tr>\n",
       "      <th>25%</th>\n",
       "      <td>86052.750000</td>\n",
       "      <td>37205.000000</td>\n",
       "      <td>8.000000</td>\n",
       "      <td>1.727831e+06</td>\n",
       "      <td>6.406542e+05</td>\n",
       "    </tr>\n",
       "    <tr>\n",
       "      <th>50%</th>\n",
       "      <td>145223.500000</td>\n",
       "      <td>37209.000000</td>\n",
       "      <td>19.000000</td>\n",
       "      <td>1.745845e+06</td>\n",
       "      <td>6.564858e+05</td>\n",
       "    </tr>\n",
       "    <tr>\n",
       "      <th>75%</th>\n",
       "      <td>217162.750000</td>\n",
       "      <td>37214.000000</td>\n",
       "      <td>26.000000</td>\n",
       "      <td>1.759491e+06</td>\n",
       "      <td>6.756736e+05</td>\n",
       "    </tr>\n",
       "    <tr>\n",
       "      <th>max</th>\n",
       "      <td>267137.000000</td>\n",
       "      <td>37228.000000</td>\n",
       "      <td>35.000000</td>\n",
       "      <td>3.496892e+07</td>\n",
       "      <td>2.204382e+06</td>\n",
       "    </tr>\n",
       "  </tbody>\n",
       "</table>\n",
       "</div>"
      ],
      "text/plain": [
       "       Request Number      Zip Code  Council District  State Plan X  \\\n",
       "count    20226.000000  20151.000000      20177.000000  2.019800e+04   \n",
       "mean    149178.986354  37180.621805         18.079100  1.763012e+06   \n",
       "std      71837.306889     66.310919          9.917632  7.754951e+05   \n",
       "min      25270.000000  37013.000000          1.000000  1.663490e+06   \n",
       "25%      86052.750000  37205.000000          8.000000  1.727831e+06   \n",
       "50%     145223.500000  37209.000000         19.000000  1.745845e+06   \n",
       "75%     217162.750000  37214.000000         26.000000  1.759491e+06   \n",
       "max     267137.000000  37228.000000         35.000000  3.496892e+07   \n",
       "\n",
       "       State Plan Y  \n",
       "count  2.019800e+04  \n",
       "mean   6.595069e+05  \n",
       "std    4.355405e+04  \n",
       "min   -2.719106e+05  \n",
       "25%    6.406542e+05  \n",
       "50%    6.564858e+05  \n",
       "75%    6.756736e+05  \n",
       "max    2.204382e+06  "
      ]
     },
     "execution_count": 4,
     "metadata": {},
     "output_type": "execute_result"
    }
   ],
   "source": [
    "trash.describe()"
   ]
  },
  {
   "cell_type": "code",
   "execution_count": 10,
   "id": "a7e7a760-127c-43e7-ae51-2ba50f151971",
   "metadata": {},
   "outputs": [
    {
     "data": {
      "text/plain": [
       "True"
      ]
     },
     "execution_count": 10,
     "metadata": {},
     "output_type": "execute_result"
    }
   ],
   "source": [
    "trash['Request Number'].is_unique"
   ]
  },
  {
   "cell_type": "code",
   "execution_count": null,
   "id": "8e454c16-bfe5-4112-b25c-f3619284247c",
   "metadata": {},
   "outputs": [],
   "source": []
  },
  {
   "cell_type": "code",
   "execution_count": null,
   "id": "f346cf76-41af-4b5f-81bf-587315d75e26",
   "metadata": {},
   "outputs": [],
   "source": []
  },
  {
   "cell_type": "code",
   "execution_count": null,
   "id": "9506284c-594d-4554-90c6-9320f17eaa1d",
   "metadata": {},
   "outputs": [],
   "source": []
  },
  {
   "cell_type": "code",
   "execution_count": null,
   "id": "f8bf6c23-c38a-461e-a686-9955b30b9371",
   "metadata": {},
   "outputs": [],
   "source": []
  },
  {
   "cell_type": "markdown",
   "id": "939f75eb-6225-40f5-a914-83adc418f895",
   "metadata": {},
   "source": [
    "## Clean DataFrame"
   ]
  },
  {
   "cell_type": "markdown",
   "id": "9c0824ed-cddf-4318-aed2-033e2413892f",
   "metadata": {},
   "source": [
    "### Remove whitespace from column headers"
   ]
  },
  {
   "cell_type": "code",
   "execution_count": 23,
   "id": "edd53052-269b-4290-9f15-1f53548823f0",
   "metadata": {},
   "outputs": [],
   "source": [
    "# remove whitespace from column headers\n",
    "trash.columns = trash.columns.str.strip()"
   ]
  },
  {
   "cell_type": "markdown",
   "id": "4f90647f-83b3-47a6-88a3-3e38441ffa18",
   "metadata": {},
   "source": [
    "### 'Date Opened' to datetime"
   ]
  },
  {
   "cell_type": "code",
   "execution_count": 32,
   "id": "b0e93f02-61b1-4cfb-b065-fae138a602d1",
   "metadata": {},
   "outputs": [
    {
     "data": {
      "text/html": [
       "<div>\n",
       "<style scoped>\n",
       "    .dataframe tbody tr th:only-of-type {\n",
       "        vertical-align: middle;\n",
       "    }\n",
       "\n",
       "    .dataframe tbody tr th {\n",
       "        vertical-align: top;\n",
       "    }\n",
       "\n",
       "    .dataframe thead th {\n",
       "        text-align: right;\n",
       "    }\n",
       "</style>\n",
       "<table border=\"1\" class=\"dataframe\">\n",
       "  <thead>\n",
       "    <tr style=\"text-align: right;\">\n",
       "      <th></th>\n",
       "      <th>Request Number</th>\n",
       "      <th>Date Opened</th>\n",
       "      <th>Request</th>\n",
       "      <th>Description</th>\n",
       "      <th>Incident Address</th>\n",
       "      <th>Zip Code</th>\n",
       "      <th>Trash Hauler</th>\n",
       "      <th>Trash Route</th>\n",
       "      <th>Council District</th>\n",
       "      <th>State Plan X</th>\n",
       "      <th>State Plan Y</th>\n",
       "      <th>Year</th>\n",
       "      <th>Month</th>\n",
       "      <th>Day</th>\n",
       "      <th>Weekday</th>\n",
       "    </tr>\n",
       "  </thead>\n",
       "  <tbody>\n",
       "    <tr>\n",
       "      <th>0</th>\n",
       "      <td>25270</td>\n",
       "      <td>2017-11-01</td>\n",
       "      <td>Trash - Backdoor</td>\n",
       "      <td>house with the wheel chair ramp, they share dr...</td>\n",
       "      <td>3817 Crouch Dr</td>\n",
       "      <td>37207.0</td>\n",
       "      <td>RED RIVER</td>\n",
       "      <td>3205</td>\n",
       "      <td>2.0</td>\n",
       "      <td>1.727970e+06</td>\n",
       "      <td>686779.478089</td>\n",
       "      <td>2017</td>\n",
       "      <td>11</td>\n",
       "      <td>1</td>\n",
       "      <td>Wednesday</td>\n",
       "    </tr>\n",
       "    <tr>\n",
       "      <th>1</th>\n",
       "      <td>25274</td>\n",
       "      <td>2017-11-01</td>\n",
       "      <td>Trash - Curbside/Alley Missed Pickup</td>\n",
       "      <td>Curb/Trash miss Tuesday.</td>\n",
       "      <td>4028 Clarksville Pike</td>\n",
       "      <td>37218.0</td>\n",
       "      <td>RED RIVER</td>\n",
       "      <td>4202</td>\n",
       "      <td>1.0</td>\n",
       "      <td>1.721259e+06</td>\n",
       "      <td>685444.799565</td>\n",
       "      <td>2017</td>\n",
       "      <td>11</td>\n",
       "      <td>1</td>\n",
       "      <td>Wednesday</td>\n",
       "    </tr>\n",
       "  </tbody>\n",
       "</table>\n",
       "</div>"
      ],
      "text/plain": [
       "   Request Number Date Opened                               Request  \\\n",
       "0           25270  2017-11-01                      Trash - Backdoor   \n",
       "1           25274  2017-11-01  Trash - Curbside/Alley Missed Pickup   \n",
       "\n",
       "                                         Description       Incident Address  \\\n",
       "0  house with the wheel chair ramp, they share dr...         3817 Crouch Dr   \n",
       "1                           Curb/Trash miss Tuesday.  4028 Clarksville Pike   \n",
       "\n",
       "   Zip Code Trash Hauler Trash Route  Council District  State Plan X  \\\n",
       "0   37207.0    RED RIVER        3205               2.0  1.727970e+06   \n",
       "1   37218.0    RED RIVER        4202               1.0  1.721259e+06   \n",
       "\n",
       "    State Plan Y  Year  Month  Day    Weekday  \n",
       "0  686779.478089  2017     11    1  Wednesday  \n",
       "1  685444.799565  2017     11    1  Wednesday  "
      ]
     },
     "execution_count": 32,
     "metadata": {},
     "output_type": "execute_result"
    }
   ],
   "source": [
    "# 'Date Opened' to datetime\n",
    "trash['Date Opened'] = pd.to_datetime(trash['Date Opened'], format='%Y/%m/%d', errors='coerce')\n",
    "# checking if there are any timestamps (came back false)\n",
    "# (trash['Date Opened'].dt.time != pd.to_datetime('00:00:00').time()).any()\n",
    "# datetime type dtype('<M8[ns]') which is also datetime64[ns]\n",
    "# trash['Date Opened'].dtype\n",
    "# Adding columns from datetime\n",
    "trash['Year']  = trash['Date Opened'].dt.year\n",
    "trash['Month'] = trash['Date Opened'].dt.month\n",
    "trash['Day']   = trash['Date Opened'].dt.day\n",
    "trash['Weekday'] = trash['Date Opened'].dt.day_name()\n",
    "# view new columns\n",
    "trash.head(2)"
   ]
  },
  {
   "cell_type": "markdown",
   "id": "e0c8ae5b-e0d7-4bc5-b3e6-84ca5f93a409",
   "metadata": {},
   "source": [
    "## Create Filters for First Question: Red River Missed Pickups"
   ]
  },
  {
   "cell_type": "code",
   "execution_count": 41,
   "id": "efd6b501-4b12-467f-81d8-3b3ff591662d",
   "metadata": {},
   "outputs": [
    {
     "data": {
      "text/plain": [
       "12911"
      ]
     },
     "execution_count": 41,
     "metadata": {},
     "output_type": "execute_result"
    }
   ],
   "source": [
    "missed_categories = ['Trash - Backdoor', 'Trash - Curbside/Alley Missed Pickup'] # these are the categories that are, by definition, missed pickups on the website\n",
    "# we could also add some regex here on type 'Trash Collection Complaint' to pick up language that identifies a missing pickup\n",
    "rrmissed = trash[(trash['Trash Hauler'] == 'RED RIVER') & (trash['Request'].isin(missed_categories))].copy() # filter on Red River & missed_categories\n",
    "len(rrmissed) # should be 12911 to match Excel filters"
   ]
  },
  {
   "cell_type": "code",
   "execution_count": 42,
   "id": "444faa7d-8ef9-41de-90d9-4936482cab68",
   "metadata": {},
   "outputs": [
    {
     "data": {
      "text/plain": [
       "12910"
      ]
     },
     "execution_count": 42,
     "metadata": {},
     "output_type": "execute_result"
    }
   ],
   "source": [
    "# found one (1) row with a missing address in Excel rrmissed filters\n",
    "rrmissed = rrmissed.dropna(subset=['Incident Address'])\n",
    "len(rrmissed) # should be 12910"
   ]
  },
  {
   "cell_type": "code",
   "execution_count": null,
   "id": "8aa8b3ec-76bd-4b68-b32a-10a061ee0f1f",
   "metadata": {},
   "outputs": [],
   "source": []
  },
  {
   "cell_type": "code",
   "execution_count": null,
   "id": "96bfafb3-3b7e-4d89-8b6b-ae848358f0bf",
   "metadata": {},
   "outputs": [],
   "source": []
  },
  {
   "cell_type": "code",
   "execution_count": null,
   "id": "09d4f170-d5f1-4950-a951-c39f18949de8",
   "metadata": {},
   "outputs": [],
   "source": []
  },
  {
   "cell_type": "code",
   "execution_count": null,
   "id": "f8f4b60d-2f84-43ad-8901-be6d1c62a9b6",
   "metadata": {},
   "outputs": [],
   "source": []
  },
  {
   "cell_type": "code",
   "execution_count": null,
   "id": "374cd724-3c1e-4745-82d1-2c3a6b6d4849",
   "metadata": {},
   "outputs": [],
   "source": []
  },
  {
   "cell_type": "code",
   "execution_count": null,
   "id": "e6508f51-361a-4bc5-b48b-477621bb6c76",
   "metadata": {},
   "outputs": [],
   "source": []
  },
  {
   "cell_type": "code",
   "execution_count": null,
   "id": "23fb74d6-1df2-4a8d-bdce-b3375c177138",
   "metadata": {},
   "outputs": [],
   "source": []
  },
  {
   "cell_type": "markdown",
   "id": "6f31da77-c51e-45f4-92f3-76b4ef8f002e",
   "metadata": {},
   "source": [
    "## What should we do about same day (or same week) requests?\n",
    "- if trash is picked up weekly, and somebody put in 10 missing pickup tickets during the week, should that only count as one missed pickup?\n",
    "- explore Excel for example and troubleshoot"
   ]
  },
  {
   "cell_type": "code",
   "execution_count": null,
   "id": "62c8c3a5-436e-408c-8215-347be56cd056",
   "metadata": {},
   "outputs": [],
   "source": []
  },
  {
   "cell_type": "code",
   "execution_count": null,
   "id": "11de60e0-52d0-4b86-a808-ab7c1f8d8efb",
   "metadata": {},
   "outputs": [],
   "source": []
  },
  {
   "cell_type": "code",
   "execution_count": null,
   "id": "adaa27f9-06c4-436a-8c75-ecaf994fe269",
   "metadata": {},
   "outputs": [],
   "source": []
  },
  {
   "cell_type": "code",
   "execution_count": null,
   "id": "86d68235-9866-4ea9-a706-3cf639ea1f45",
   "metadata": {},
   "outputs": [],
   "source": []
  },
  {
   "cell_type": "code",
   "execution_count": null,
   "id": "e0e7d00e-f410-4a81-9c81-0a7e051245b1",
   "metadata": {},
   "outputs": [],
   "source": []
  },
  {
   "cell_type": "code",
   "execution_count": null,
   "id": "8373355c-f665-44ae-9605-33bd876697f6",
   "metadata": {},
   "outputs": [],
   "source": []
  },
  {
   "cell_type": "code",
   "execution_count": null,
   "id": "064be3f0-b7a0-455b-b884-c653a454e292",
   "metadata": {},
   "outputs": [],
   "source": []
  },
  {
   "cell_type": "markdown",
   "id": "d0bb541c-b5f0-46cc-b3b1-9723363214ec",
   "metadata": {},
   "source": [
    "## Create an address key? Something we can use to find same addresses"
   ]
  },
  {
   "cell_type": "code",
   "execution_count": 39,
   "id": "2a32f394-464c-4490-8f95-a15aee65c502",
   "metadata": {},
   "outputs": [],
   "source": [
    "# this is going to involve regex"
   ]
  },
  {
   "cell_type": "code",
   "execution_count": null,
   "id": "b3135cc7-9f41-48e4-a14e-88fcae950885",
   "metadata": {},
   "outputs": [],
   "source": []
  },
  {
   "cell_type": "code",
   "execution_count": null,
   "id": "a1aad5fc-8080-4839-902d-2fd5cd9bb97d",
   "metadata": {},
   "outputs": [],
   "source": []
  },
  {
   "cell_type": "code",
   "execution_count": null,
   "id": "77a9cc37-a401-4e54-8cae-3dfa67c96392",
   "metadata": {},
   "outputs": [],
   "source": []
  },
  {
   "cell_type": "code",
   "execution_count": null,
   "id": "8d822cb5-6f60-454b-9c13-2a9705318632",
   "metadata": {},
   "outputs": [],
   "source": []
  },
  {
   "cell_type": "markdown",
   "id": "b8e7aeaf-3a90-4aa3-8897-d751bd384526",
   "metadata": {
    "jp-MarkdownHeadingCollapsed": true
   },
   "source": [
    "## Testing what to convert the X/Y coordinates to for mapping"
   ]
  },
  {
   "cell_type": "code",
   "execution_count": 28,
   "id": "86e3295a-7406-4531-81ff-db1416cdedce",
   "metadata": {},
   "outputs": [
    {
     "name": "stdout",
     "output_type": "stream",
     "text": [
      "   State Plan X   State Plan Y        lon        lat\n",
      "0  1.727970e+06  686779.478089 -86.815392  36.217292\n",
      "1  1.721259e+06  685444.799565 -86.838103  36.213470\n",
      "2  1.707027e+06  659887.471571 -86.885562  36.142923\n",
      "3  1.735692e+06  685027.245923 -86.789170  36.212652\n",
      "4  1.710186e+06  664205.101066 -86.874995  36.154861\n"
     ]
    }
   ],
   "source": [
    "import geopandas as gpd\n",
    "\n",
    "# Create a GeoDataFrame from your existing df\n",
    "gdf = gpd.GeoDataFrame(\n",
    "    trash.copy(),\n",
    "    geometry=gpd.points_from_xy(trash['State Plan X'], trash['State Plan Y']),\n",
    "    crs=\"EPSG:2274\"   # or \"EPSG:6576\" if NAD83(2011)\n",
    ")\n",
    "\n",
    "# Reproject to WGS84 (lat/lon)\n",
    "gdf_ll = gdf.to_crs(epsg=4326)\n",
    "\n",
    "# Extract numeric lon/lat columns if you want them separately\n",
    "gdf_ll['lon'] = gdf_ll.geometry.x\n",
    "gdf_ll['lat'] = gdf_ll.geometry.y\n",
    "\n",
    "# Preview results\n",
    "print(gdf_ll[['State Plan X', 'State Plan Y', 'lon', 'lat']].head())\n"
   ]
  },
  {
   "cell_type": "code",
   "execution_count": 31,
   "id": "e79ed0f3-1487-4403-9794-d6390a1e6962",
   "metadata": {},
   "outputs": [
    {
     "data": {
      "image/png": "[encoded data removed]",
      "text/plain": [
       "<Figure size 600x600 with 1 Axes>"
      ]
     },
     "metadata": {},
     "output_type": "display_data"
    }
   ],
   "source": [
    "import matplotlib.pyplot as plt\n",
    "\n",
    "# assuming you already did:\n",
    "# gdf = gpd.GeoDataFrame(..., crs=\"EPSG:2274\")\n",
    "# gdf_ll = gdf.to_crs(epsg=4326)\n",
    "\n",
    "plt.figure(figsize=(6,6))\n",
    "plt.scatter(gdf_ll['lon'], gdf_ll['lat'], s=10, c='blue', alpha=0.6)\n",
    "\n",
    "plt.xlabel(\"Longitude\")\n",
    "plt.ylabel(\"Latitude\")\n",
    "plt.title(\"Check of Trash Requests (Lat/Lon)\")\n",
    "\n",
    "plt.show()"
   ]
  },
  {
   "cell_type": "markdown",
   "id": "89a54939-cc1e-4af1-b31a-3b6aae53a094",
   "metadata": {},
   "source": [
    "### need to remove NaNs in X/Y coordinates prior to mapping"
   ]
  },
  {
   "cell_type": "code",
   "execution_count": null,
   "id": "56a8ff4e-efb2-4008-9ba4-6380f093905b",
   "metadata": {},
   "outputs": [],
   "source": []
  },
  {
   "cell_type": "code",
   "execution_count": null,
   "id": "20e3cafb-0697-4cb1-a21b-c76f6228efc3",
   "metadata": {},
   "outputs": [],
   "source": []
  },
  {
   "cell_type": "code",
   "execution_count": null,
   "id": "70ca5fec-f794-45c5-aef3-54281b666857",
   "metadata": {},
   "outputs": [],
   "source": []
  },
  {
   "cell_type": "code",
   "execution_count": null,
   "id": "e2fba74f-3108-470d-89b6-3f0054bcf90f",
   "metadata": {},
   "outputs": [],
   "source": []
  },
  {
   "cell_type": "code",
   "execution_count": null,
   "id": "81bd8438-ddc5-41cc-9238-68734047afd0",
   "metadata": {},
   "outputs": [],
   "source": []
  },
  {
   "cell_type": "code",
   "execution_count": null,
   "id": "5d2c3b3b-0fb3-4b67-9472-03eb16afb345",
   "metadata": {},
   "outputs": [],
   "source": []
  }
 ],
 "metadata": {
  "kernelspec": {
   "display_name": "Python 3 (ipykernel)",
   "language": "python",
   "name": "python3"
  },
  "language_info": {
   "codemirror_mode": {
    "name": "ipython",
    "version": 3
   },
   "file_extension": ".py",
   "mimetype": "text/x-python",
   "name": "python",
   "nbconvert_exporter": "python",
   "pygments_lexer": "ipython3",
   "version": "3.13.5"
  }
 },
 "nbformat": 4,
 "nbformat_minor": 5
}
